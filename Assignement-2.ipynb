{
  "metadata": {
    "kernelspec": {
      "name": "python",
      "display_name": "Python (Pyodide)",
      "language": "python"
    },
    "language_info": {
      "codemirror_mode": {
        "name": "python",
        "version": 3
      },
      "file_extension": ".py",
      "mimetype": "text/x-python",
      "name": "python",
      "nbconvert_exporter": "python",
      "pygments_lexer": "ipython3",
      "version": "3.8"
    }
  },
  "nbformat_minor": 5,
  "nbformat": 4,
  "cells": [
    {
      "cell_type": "code",
      "source": "#Question 1. How do you comment code in Python? What are the different types of comments?",
      "metadata": {
        "trusted": true
      },
      "execution_count": 12,
      "outputs": [],
      "id": "a0bea531-4cb9-4a51-97a2-76987affec65"
    },
    {
      "cell_type": "code",
      "source": "#Answer: These are the 3 types.",
      "metadata": {
        "trusted": true
      },
      "execution_count": 14,
      "outputs": [],
      "id": "229b29e5-290a-4900-ab28-49a8b5f7ae85"
    },
    {
      "cell_type": "code",
      "source": "# Single Line Comment\" Hello this is a comment line Part-1 which is contain a single line sentence.",
      "metadata": {
        "trusted": true
      },
      "execution_count": 15,
      "outputs": [],
      "id": "29223bd1-f832-4808-8b81-73a50a6968b4"
    },
    {
      "cell_type": "code",
      "source": "\"\"\"\n\"Python Docstrings\"\nI would like to write a comment which is having more than a line\nor too write a long comment.\n\"\"\"",
      "metadata": {
        "trusted": true
      },
      "execution_count": 16,
      "outputs": [
        {
          "execution_count": 16,
          "output_type": "execute_result",
          "data": {
            "text/plain": "'\\n\"Python Docstrings\"\\nI would like to write a comment which is having more than a line\\nor too write a long comment.\\n'"
          },
          "metadata": {}
        }
      ],
      "id": "8a8b2b66-531b-4ddd-bdc9-e82f0f3701b3"
    },
    {
      "cell_type": "code",
      "source": "## \"Multi line Comment\".\n## And again writing a comment in different manner.",
      "metadata": {
        "trusted": true
      },
      "execution_count": 17,
      "outputs": [],
      "id": "415462bc-7e0a-46c3-bc36-aeb474bd9216"
    },
    {
      "cell_type": "code",
      "source": "#Question 2. What are variables in Python? How do you declare and assign values to variables?",
      "metadata": {
        "trusted": true
      },
      "execution_count": 18,
      "outputs": [],
      "id": "8e8c5ab4-5135-4584-942a-1cf2e11e309b"
    },
    {
      "cell_type": "code",
      "source": "\"\"\"\nA Variable is a string of characters and numbers associated with a piece of information.\nfor Example: My_Name = \"Pankaj\" or i=10\n The assignment operator, denoted by the “=” symbol, is the operator that is used to assign values to variables in Python. \n The line Name=\"Pankaj\" takes the known character 'Pankaj', and assigns that value to the variable with name “My_Name”.\n\"\"\"",
      "metadata": {
        "trusted": true
      },
      "execution_count": 19,
      "outputs": [
        {
          "execution_count": 19,
          "output_type": "execute_result",
          "data": {
            "text/plain": "'\\nA Variable is a string of characters and numbers associated with a piece of information.\\nfor Example: My_Name = \"Pankaj\" or i=10\\n The assignment operator, denoted by the “=” symbol, is the operator that is used to assign values to variables in Python. \\n The line Name=\"Pankaj\" takes the known character \\'Pankaj\\', and assigns that value to the variable with name “My_Name”.\\n'"
          },
          "metadata": {}
        }
      ],
      "id": "de696cc0-b66d-4776-9a5e-e6613c3f6e57"
    },
    {
      "cell_type": "code",
      "source": "#Question 3. How do you convert one data type to another in Python?",
      "metadata": {
        "trusted": true
      },
      "execution_count": 20,
      "outputs": [],
      "id": "d71e3971-d27a-4166-945d-e798f8f67b2a"
    },
    {
      "cell_type": "code",
      "source": "New_variable = 101        #let the suppose we have a variable in string data type",
      "metadata": {
        "trusted": true
      },
      "execution_count": 2,
      "outputs": [],
      "id": "391696cf-86c7-46f2-b97c-e5a134386c85"
    },
    {
      "cell_type": "code",
      "source": "type(New_variable)",
      "metadata": {
        "trusted": true
      },
      "execution_count": 3,
      "outputs": [
        {
          "execution_count": 3,
          "output_type": "execute_result",
          "data": {
            "text/plain": "int"
          },
          "metadata": {}
        }
      ],
      "id": "db96e137-0837-4e3e-8add-4ee6b8b15e1b"
    },
    {
      "cell_type": "code",
      "source": "New_variable = \"101\"     #convert in to another i.e. integer.",
      "metadata": {
        "trusted": true
      },
      "execution_count": 4,
      "outputs": [],
      "id": "21dfa88d-f114-4016-86ec-89c789fac7f4"
    },
    {
      "cell_type": "code",
      "source": "type(New_variable)",
      "metadata": {
        "trusted": true
      },
      "execution_count": 5,
      "outputs": [
        {
          "execution_count": 5,
          "output_type": "execute_result",
          "data": {
            "text/plain": "str"
          },
          "metadata": {}
        }
      ],
      "id": "a98dda98-ba0d-4bbe-b209-eb4e180d9538"
    },
    {
      "cell_type": "code",
      "source": "New_variable = int(\"101\")     #Viceversa.",
      "metadata": {
        "trusted": true
      },
      "execution_count": 6,
      "outputs": [],
      "id": "68b2734a-826f-4b1a-b0fa-871ae72ee30f"
    },
    {
      "cell_type": "code",
      "source": "type(New_variable)",
      "metadata": {
        "trusted": true
      },
      "execution_count": 7,
      "outputs": [
        {
          "execution_count": 7,
          "output_type": "execute_result",
          "data": {
            "text/plain": "int"
          },
          "metadata": {}
        }
      ],
      "id": "6f6d9c97-5edc-4b9a-af38-c52f75d1d684"
    },
    {
      "cell_type": "code",
      "source": "#Question 4. How do you write and execute a Python script from the command line?",
      "metadata": {
        "trusted": true
      },
      "execution_count": 8,
      "outputs": [],
      "id": "4081a26d-7326-4e37-8062-291a8a37f0fc"
    },
    {
      "cell_type": "code",
      "source": "\"First_Script\"",
      "metadata": {
        "trusted": true
      },
      "execution_count": 10,
      "outputs": [
        {
          "execution_count": 10,
          "output_type": "execute_result",
          "data": {
            "text/plain": "'First_Script'"
          },
          "metadata": {}
        }
      ],
      "id": "6bdff5fd-b959-4220-ae29-2ddac2fa45cc"
    },
    {
      "cell_type": "code",
      "source": "#You need to open a command line and type the word \"First_Script\" and hit shift enter or \"Run\".",
      "metadata": {
        "trusted": true
      },
      "execution_count": 11,
      "outputs": [],
      "id": "06cb4884-bdd6-4e0d-905b-d6b22e927b73"
    },
    {
      "cell_type": "code",
      "source": "#Question 5. Given a list my_list = [1, 2, 3, 4, 5], write the code to slice the list and obtain the sub-list [2, 3].",
      "metadata": {},
      "execution_count": null,
      "outputs": [],
      "id": "a2d34816-86f2-4168-be1e-9650d27cacf7"
    },
    {
      "cell_type": "code",
      "source": "my_list = [1, 2, 3, 4, 5]\nsub_list = my_list[1:3]",
      "metadata": {
        "trusted": true
      },
      "execution_count": 2,
      "outputs": [],
      "id": "a6c9b881-84e1-45c7-aa75-e486a50ff148"
    },
    {
      "cell_type": "code",
      "source": "sub_list",
      "metadata": {
        "trusted": true
      },
      "execution_count": 3,
      "outputs": [
        {
          "execution_count": 3,
          "output_type": "execute_result",
          "data": {
            "text/plain": "[2, 3]"
          },
          "metadata": {}
        }
      ],
      "id": "8ad8f823-fe42-404c-85d6-e6fc820fab60"
    },
    {
      "cell_type": "code",
      "source": "#Question 6. What is a complex number in mathematics, and how is it represented in Python?",
      "metadata": {
        "trusted": true
      },
      "execution_count": 4,
      "outputs": [],
      "id": "7bb3244d-7026-48d4-9c37-0bc98a757b4e"
    },
    {
      "cell_type": "code",
      "source": "#y1 = 4+7i         #(Mathematics)",
      "metadata": {
        "trusted": true
      },
      "execution_count": 5,
      "outputs": [],
      "id": "c8081f58-fab7-4f07-b092-609e96502a1d"
    },
    {
      "cell_type": "code",
      "source": "z1 = 3 + 4j        # 3 is the real part, 4 is the imaginary part\nz2 = 2.5 - 1.8j    # 2.5 is the real part, -1.8 is the imaginary part\nz3 = -1j           # 0 is the real part, -1 is the imaginary part",
      "metadata": {
        "trusted": true
      },
      "execution_count": 6,
      "outputs": [],
      "id": "10b39dad-1990-455b-8f51-ad61231b08ef"
    },
    {
      "cell_type": "code",
      "source": "type(z1)",
      "metadata": {
        "trusted": true
      },
      "execution_count": 7,
      "outputs": [
        {
          "execution_count": 7,
          "output_type": "execute_result",
          "data": {
            "text/plain": "complex"
          },
          "metadata": {}
        }
      ],
      "id": "798c586c-2ccb-4770-a336-8d96c245a9ab"
    },
    {
      "cell_type": "code",
      "source": "Q7. What is the correct way to declare a variable named age and assign the value 25 to it?",
      "metadata": {
        "trusted": true
      },
      "execution_count": 8,
      "outputs": [
        {
          "name": "stdout",
          "text": "Object `it` not found.\n",
          "output_type": "stream"
        }
      ],
      "id": "475eedb4-ca0a-4222-b27b-c6b654cbe464"
    },
    {
      "cell_type": "code",
      "source": "age=25",
      "metadata": {
        "trusted": true
      },
      "execution_count": 9,
      "outputs": [],
      "id": "9d9298d8-4618-4600-b3bc-c5f48c07253b"
    },
    {
      "cell_type": "code",
      "source": "age",
      "metadata": {
        "trusted": true
      },
      "execution_count": 10,
      "outputs": [
        {
          "execution_count": 10,
          "output_type": "execute_result",
          "data": {
            "text/plain": "25"
          },
          "metadata": {}
        }
      ],
      "id": "465135d8-c142-4128-becf-4a1cb72b3d62"
    },
    {
      "cell_type": "code",
      "source": "Age = int(25)",
      "metadata": {
        "trusted": true
      },
      "execution_count": 11,
      "outputs": [],
      "id": "02151600-d37c-4dc4-b3af-e74a31f83298"
    },
    {
      "cell_type": "code",
      "source": "Age",
      "metadata": {
        "trusted": true
      },
      "execution_count": 12,
      "outputs": [
        {
          "execution_count": 12,
          "output_type": "execute_result",
          "data": {
            "text/plain": "25"
          },
          "metadata": {}
        }
      ],
      "id": "e51e3550-69fa-4a94-9098-af2d4d2b8bf4"
    },
    {
      "cell_type": "code",
      "source": "type(Age)",
      "metadata": {
        "trusted": true
      },
      "execution_count": 13,
      "outputs": [
        {
          "execution_count": 13,
          "output_type": "execute_result",
          "data": {
            "text/plain": "int"
          },
          "metadata": {}
        }
      ],
      "id": "adea03d2-8692-443d-9a5b-bc528956bc61"
    },
    {
      "cell_type": "code",
      "source": "#Question 8. Declare a variable named price and assign the value 9.99 to it. What data type does this variable belong to?",
      "metadata": {
        "trusted": true
      },
      "execution_count": 14,
      "outputs": [],
      "id": "7ff8808c-f104-408e-ac26-14f165daafa3"
    },
    {
      "cell_type": "code",
      "source": "price = 9.99",
      "metadata": {
        "trusted": true
      },
      "execution_count": 15,
      "outputs": [],
      "id": "3e1cc3b5-e043-4b04-b457-f498b0101cea"
    },
    {
      "cell_type": "code",
      "source": "price",
      "metadata": {
        "trusted": true
      },
      "execution_count": 16,
      "outputs": [
        {
          "execution_count": 16,
          "output_type": "execute_result",
          "data": {
            "text/plain": "9.99"
          },
          "metadata": {}
        }
      ],
      "id": "07148045-ccd6-49df-832e-5490a84aa62b"
    },
    {
      "cell_type": "code",
      "source": "type(price)",
      "metadata": {
        "trusted": true
      },
      "execution_count": 17,
      "outputs": [
        {
          "execution_count": 17,
          "output_type": "execute_result",
          "data": {
            "text/plain": "float"
          },
          "metadata": {}
        }
      ],
      "id": "11e785f5-2233-4213-9278-5d3687d42de1"
    },
    {
      "cell_type": "code",
      "source": "#Question 9. Create a variable named name and assign your full name to it as a string. How would you print the value of this variable?",
      "metadata": {
        "trusted": true
      },
      "execution_count": 18,
      "outputs": [],
      "id": "e58964b2-e493-4562-89d2-3e8fe0acff97"
    },
    {
      "cell_type": "code",
      "source": "name = \"Pankaj Dubey\"",
      "metadata": {
        "trusted": true
      },
      "execution_count": 28,
      "outputs": [],
      "id": "5717fff8-7992-4e23-af1b-f7b14078b9d9"
    },
    {
      "cell_type": "code",
      "source": "print(name)",
      "metadata": {
        "trusted": true
      },
      "execution_count": 29,
      "outputs": [
        {
          "name": "stdout",
          "text": "Pankaj Dubey\n",
          "output_type": "stream"
        }
      ],
      "id": "e5c842aa-e9ce-465c-9365-7ad6684183d3"
    },
    {
      "cell_type": "code",
      "source": "type(name)",
      "metadata": {
        "trusted": true
      },
      "execution_count": 30,
      "outputs": [
        {
          "execution_count": 30,
          "output_type": "execute_result",
          "data": {
            "text/plain": "str"
          },
          "metadata": {}
        }
      ],
      "id": "a5f4339e-4558-4940-aea6-e29e429aadf7"
    },
    {
      "cell_type": "code",
      "source": "#Question 10. Given the string \"Hello, World!\", extract the substring \"World\".",
      "metadata": {
        "trusted": true
      },
      "execution_count": 31,
      "outputs": [],
      "id": "9eedca3c-486a-4e5a-9da7-6d50783f36c1"
    },
    {
      "cell_type": "code",
      "source": "string = \"Hello, World!\"",
      "metadata": {
        "trusted": true
      },
      "execution_count": 35,
      "outputs": [],
      "id": "e78b5840-07df-4fc4-8f68-03b7fabffc20"
    },
    {
      "cell_type": "code",
      "source": "substring = string[7:12]",
      "metadata": {
        "trusted": true
      },
      "execution_count": 36,
      "outputs": [],
      "id": "e5442c9c-38b7-4ca1-a873-e56e9c50cdb6"
    },
    {
      "cell_type": "code",
      "source": "print(substring)",
      "metadata": {
        "trusted": true
      },
      "execution_count": 38,
      "outputs": [
        {
          "name": "stdout",
          "text": "World\n",
          "output_type": "stream"
        }
      ],
      "id": "22a94525-853c-4ab1-84cb-120eb19414e0"
    },
    {
      "cell_type": "code",
      "source": "#Question 11. Create a variable named \"is_student\" and assign it a boolean value indicating whether you are currently a student or not.",
      "metadata": {
        "trusted": true
      },
      "execution_count": 39,
      "outputs": [],
      "id": "e0c596b6-4411-4872-a962-6fe7fe6a20b6"
    },
    {
      "cell_type": "code",
      "source": "is_student = bool(input(\"Are you a student\"))\nif is_student == True:\n    print(\"Verified You are currently a student in our organization\")\nelse:\n    print(\"You are currently not a student in our organization\")",
      "metadata": {
        "trusted": true
      },
      "execution_count": 48,
      "outputs": [
        {
          "name": "stdout",
          "text": "Verified You are currently a student in our organization\n",
          "output_type": "stream"
        },
        {
          "output_type": "stream",
          "name": "stdin",
          "text": "Are you a student True\n"
        }
      ],
      "id": "f68ebeb2-7dcc-47db-8bd7-166d434947c6"
    },
    {
      "cell_type": "code",
      "source": "",
      "metadata": {},
      "execution_count": null,
      "outputs": [],
      "id": "71007b9d-8e04-46f0-b1ba-d439c40a24ae"
    }
  ]
}